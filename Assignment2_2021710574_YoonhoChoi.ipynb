{
  "nbformat": 4,
  "nbformat_minor": 0,
  "metadata": {
    "colab": {
      "name": "Untitled0.ipynb",
      "provenance": [],
      "authorship_tag": "ABX9TyPCclN3GxMQm5vTpInQAdSX",
      "include_colab_link": true
    },
    "kernelspec": {
      "name": "python3",
      "display_name": "Python 3"
    },
    "language_info": {
      "name": "python"
    }
  },
  "cells": [
    {
      "cell_type": "markdown",
      "metadata": {
        "id": "view-in-github",
        "colab_type": "text"
      },
      "source": [
        "<a href=\"https://colab.research.google.com/github/YOONHO-CHOI/assignment-YOONHO-CHOI/blob/main/Assignment2_2021710574_YoonhoChoi.ipynb\" target=\"_parent\"><img src=\"https://colab.research.google.com/assets/colab-badge.svg\" alt=\"Open In Colab\"/></a>"
      ]
    },
    {
      "cell_type": "code",
      "metadata": {
        "colab": {
          "base_uri": "https://localhost:8080/"
        },
        "id": "ZkRezbRdRSmz",
        "outputId": "58208f08-e0c8-4679-9737-fb3ebcaf8a0d"
      },
      "source": [
        "# Assignment - Create a raw dataset with more rows and columns in Section 2.2\n",
        "import os\n",
        "import numpy as np\n",
        "import pandas as pd\n",
        "\n",
        "\n",
        "os.makedirs(os.path.join('..', 'data'), exist_ok=True)\n",
        "\n",
        "data_file = os.path.join('..', 'data', 'house_tiny.csv')\n",
        "with open(data_file, 'w') as f:\n",
        "    f.write('NumRooms, Alley, Price, Name\\n')  # Column names\n",
        "    f.write('2, Pave, 127500, Heejun\\n')  # Each row represents a data example\n",
        "    f.write('2, NA, 106000, Tony\\n')\n",
        "    f.write('4, NA, 178100, Gangta\\n')\n",
        "    f.write('NA, NA, 140000, Woohyuk\\n')\n",
        "    f.write('NA, NA, 123456, Jaewon\\n')    \n",
        "data = pd.read_csv(data_file)\n",
        "print(data)"
      ],
      "execution_count": 28,
      "outputs": [
        {
          "output_type": "stream",
          "name": "stdout",
          "text": [
            "   NumRooms  Alley   Price      Name\n",
            "0       2.0   Pave  127500    Heejun\n",
            "1       2.0     NA  106000      Tony\n",
            "2       4.0     NA  178100    Gangta\n",
            "3       NaN     NA  140000   Woohyuk\n",
            "4       NaN     NA  123456    Jaewon\n"
          ]
        }
      ]
    },
    {
      "cell_type": "code",
      "metadata": {
        "colab": {
          "base_uri": "https://localhost:8080/"
        },
        "id": "etzfRGS-RfVu",
        "outputId": "e48e4f02-5614-45f4-f461-5e3a8eedb871"
      },
      "source": [
        "# Delete the column with the most missing values.\n",
        "frequent_na_column = np.argmax(data.isnull().sum())\n",
        "print('The most frequent NA column is {}'.format(data.keys()[frequent_na_column]))\n",
        "preprocessed_data = data.drop(data.columns[frequent_na_column], axis = 1)\n",
        "print(preprocessed_data)"
      ],
      "execution_count": 29,
      "outputs": [
        {
          "output_type": "stream",
          "name": "stdout",
          "text": [
            "The most frequent NA column is NumRooms\n",
            "   Alley   Price      Name\n",
            "0   Pave  127500    Heejun\n",
            "1     NA  106000      Tony\n",
            "2     NA  178100    Gangta\n",
            "3     NA  140000   Woohyuk\n",
            "4     NA  123456    Jaewon\n"
          ]
        }
      ]
    },
    {
      "cell_type": "code",
      "metadata": {
        "colab": {
          "base_uri": "https://localhost:8080/"
        },
        "id": "b7pzXjcHRiqN",
        "outputId": "6e9b9c97-075b-4ad1-e940-1228f6b8b224"
      },
      "source": [
        "# Convert the preprocessed dataset to the tensor format\n",
        "import tensorflow as tf\n",
        "tensor_data = tf.constant(preprocessed_data.iloc[:,1]) # Only numeric array can be converted to tensor shape\n",
        "tensor_data\n"
      ],
      "execution_count": 30,
      "outputs": [
        {
          "output_type": "execute_result",
          "data": {
            "text/plain": [
              "<tf.Tensor: shape=(5,), dtype=int64, numpy=array([127500, 106000, 178100, 140000, 123456])>"
            ]
          },
          "metadata": {},
          "execution_count": 30
        }
      ]
    }
  ]
}